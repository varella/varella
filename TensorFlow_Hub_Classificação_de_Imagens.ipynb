{
  "cells": [
    {
      "cell_type": "markdown",
      "metadata": {
        "id": "view-in-github",
        "colab_type": "text"
      },
      "source": [
        "<a href=\"https://colab.research.google.com/github/varella/varella/blob/main/TensorFlow_Hub_Classifica%C3%A7%C3%A3o_de_Imagens.ipynb\" target=\"_parent\"><img src=\"https://colab.research.google.com/assets/colab-badge.svg\" alt=\"Open In Colab\"/></a>"
      ]
    },
    {
      "cell_type": "markdown",
      "source": [
        "# TensorFlow Hub - Classificação de Imagens\n",
        "\n",
        "- Baseado em: https://www.tensorflow.org/hub/tutorials/tf2_image_retraining?hl=pt-br"
      ],
      "metadata": {
        "id": "nMX53YhqSXfH"
      }
    },
    {
      "cell_type": "markdown",
      "source": [
        "# Importação das bibliotecas"
      ],
      "metadata": {
        "id": "fUpIFXpEawk2"
      }
    },
    {
      "cell_type": "code",
      "source": [
        "import matplotlib.pyplot as plt\n",
        "import numpy as np\n",
        "import tensorflow as tf\n",
        "import tensorflow_hub as hub\n",
        "print('Versão do TensorFlow: ', tf.__version__)\n",
        "print('Versão do TensorFlow Hub: ', hub.__version__)"
      ],
      "metadata": {
        "colab": {
          "base_uri": "https://localhost:8080/"
        },
        "id": "CED_uLTd-lWU",
        "outputId": "fe570044-c36c-4c01-bd04-f61eab3cc291"
      },
      "execution_count": null,
      "outputs": [
        {
          "output_type": "stream",
          "name": "stdout",
          "text": [
            "Versão do TensorFlow:  2.8.2\n",
            "Versão do TensorFlow Hub:  0.12.0\n"
          ]
        }
      ]
    },
    {
      "cell_type": "markdown",
      "source": [
        "# Configurações do modelo"
      ],
      "metadata": {
        "id": "M06lvscTzlHi"
      }
    },
    {
      "cell_type": "code",
      "source": [
        "# Lista com os modelos disponíveis: https://tfhub.dev/s?module-type=image-feature-vector&tf-version=tf2\n",
        "nome_modelo = 'efficientnetv2-xl-21k' # @param ['efficientnetv2-s', 'efficientnetv2-m', 'efficientnetv2-l', 'efficientnetv2-s-21k', 'efficientnetv2-m-21k', 'efficientnetv2-l-21k', 'efficientnetv2-xl-21k', 'efficientnetv2-b0-21k', 'efficientnetv2-b1-21k', 'efficientnetv2-b2-21k', 'efficientnetv2-b3-21k', 'efficientnetv2-s-21k-ft1k', 'efficientnetv2-m-21k-ft1k', 'efficientnetv2-l-21k-ft1k', 'efficientnetv2-xl-21k-ft1k', 'efficientnetv2-b0-21k-ft1k', 'efficientnetv2-b1-21k-ft1k', 'efficientnetv2-b2-21k-ft1k', 'efficientnetv2-b3-21k-ft1k', 'efficientnetv2-b0', 'efficientnetv2-b1', 'efficientnetv2-b2', 'efficientnetv2-b3', 'efficientnet_b0', 'efficientnet_b1', 'efficientnet_b2', 'efficientnet_b3', 'efficientnet_b4', 'efficientnet_b5', 'efficientnet_b6', 'efficientnet_b7', 'bit_s-r50x1', 'inception_v3', 'inception_resnet_v2', 'resnet_v1_50', 'resnet_v1_101', 'resnet_v1_152', 'resnet_v2_50', 'resnet_v2_101', 'resnet_v2_152', 'nasnet_large', 'nasnet_mobile', 'pnasnet_large', 'mobilenet_v2_100_224', 'mobilenet_v2_130_224', 'mobilenet_v2_140_224', 'mobilenet_v3_small_100_224', 'mobilenet_v3_small_075_224', 'mobilenet_v3_large_100_224', 'mobilenet_v3_large_075_224']"
      ],
      "metadata": {
        "id": "N3VWEGOm_IZ0"
      },
      "execution_count": null,
      "outputs": []
    },
    {
      "cell_type": "code",
      "source": [
        "links_modelos = {\n",
        "  \"efficientnetv2-s\": \"https://tfhub.dev/google/imagenet/efficientnet_v2_imagenet1k_s/feature_vector/2\",\n",
        "  \"efficientnetv2-m\": \"https://tfhub.dev/google/imagenet/efficientnet_v2_imagenet1k_m/feature_vector/2\",\n",
        "  \"efficientnetv2-l\": \"https://tfhub.dev/google/imagenet/efficientnet_v2_imagenet1k_l/feature_vector/2\",\n",
        "  \"efficientnetv2-s-21k\": \"https://tfhub.dev/google/imagenet/efficientnet_v2_imagenet21k_s/feature_vector/2\",\n",
        "  \"efficientnetv2-m-21k\": \"https://tfhub.dev/google/imagenet/efficientnet_v2_imagenet21k_m/feature_vector/2\",\n",
        "  \"efficientnetv2-l-21k\": \"https://tfhub.dev/google/imagenet/efficientnet_v2_imagenet21k_l/feature_vector/2\",\n",
        "  \"efficientnetv2-xl-21k\": \"https://tfhub.dev/google/imagenet/efficientnet_v2_imagenet21k_xl/feature_vector/2\",\n",
        "  \"efficientnetv2-b0-21k\": \"https://tfhub.dev/google/imagenet/efficientnet_v2_imagenet21k_b0/feature_vector/2\",\n",
        "  \"efficientnetv2-b1-21k\": \"https://tfhub.dev/google/imagenet/efficientnet_v2_imagenet21k_b1/feature_vector/2\",\n",
        "  \"efficientnetv2-b2-21k\": \"https://tfhub.dev/google/imagenet/efficientnet_v2_imagenet21k_b2/feature_vector/2\",\n",
        "  \"efficientnetv2-b3-21k\": \"https://tfhub.dev/google/imagenet/efficientnet_v2_imagenet21k_b3/feature_vector/2\",\n",
        "  \"efficientnetv2-s-21k-ft1k\": \"https://tfhub.dev/google/imagenet/efficientnet_v2_imagenet21k_ft1k_s/feature_vector/2\",\n",
        "  \"efficientnetv2-m-21k-ft1k\": \"https://tfhub.dev/google/imagenet/efficientnet_v2_imagenet21k_ft1k_m/feature_vector/2\",\n",
        "  \"efficientnetv2-l-21k-ft1k\": \"https://tfhub.dev/google/imagenet/efficientnet_v2_imagenet21k_ft1k_l/feature_vector/2\",\n",
        "  \"efficientnetv2-xl-21k-ft1k\": \"https://tfhub.dev/google/imagenet/efficientnet_v2_imagenet21k_ft1k_xl/feature_vector/2\",\n",
        "  \"efficientnetv2-b0-21k-ft1k\": \"https://tfhub.dev/google/imagenet/efficientnet_v2_imagenet21k_ft1k_b0/feature_vector/2\",\n",
        "  \"efficientnetv2-b1-21k-ft1k\": \"https://tfhub.dev/google/imagenet/efficientnet_v2_imagenet21k_ft1k_b1/feature_vector/2\",\n",
        "  \"efficientnetv2-b2-21k-ft1k\": \"https://tfhub.dev/google/imagenet/efficientnet_v2_imagenet21k_ft1k_b2/feature_vector/2\",\n",
        "  \"efficientnetv2-b3-21k-ft1k\": \"https://tfhub.dev/google/imagenet/efficientnet_v2_imagenet21k_ft1k_b3/feature_vector/2\",\n",
        "  \"efficientnetv2-b0\": \"https://tfhub.dev/google/imagenet/efficientnet_v2_imagenet1k_b0/feature_vector/2\",\n",
        "  \"efficientnetv2-b1\": \"https://tfhub.dev/google/imagenet/efficientnet_v2_imagenet1k_b1/feature_vector/2\",\n",
        "  \"efficientnetv2-b2\": \"https://tfhub.dev/google/imagenet/efficientnet_v2_imagenet1k_b2/feature_vector/2\",\n",
        "  \"efficientnetv2-b3\": \"https://tfhub.dev/google/imagenet/efficientnet_v2_imagenet1k_b3/feature_vector/2\",\n",
        "  \"efficientnet_b0\": \"https://tfhub.dev/tensorflow/efficientnet/b0/feature-vector/1\",\n",
        "  \"efficientnet_b1\": \"https://tfhub.dev/tensorflow/efficientnet/b1/feature-vector/1\",\n",
        "  \"efficientnet_b2\": \"https://tfhub.dev/tensorflow/efficientnet/b2/feature-vector/1\",\n",
        "  \"efficientnet_b3\": \"https://tfhub.dev/tensorflow/efficientnet/b3/feature-vector/1\",\n",
        "  \"efficientnet_b4\": \"https://tfhub.dev/tensorflow/efficientnet/b4/feature-vector/1\",\n",
        "  \"efficientnet_b5\": \"https://tfhub.dev/tensorflow/efficientnet/b5/feature-vector/1\",\n",
        "  \"efficientnet_b6\": \"https://tfhub.dev/tensorflow/efficientnet/b6/feature-vector/1\",\n",
        "  \"efficientnet_b7\": \"https://tfhub.dev/tensorflow/efficientnet/b7/feature-vector/1\",\n",
        "  \"bit_s-r50x1\": \"https://tfhub.dev/google/bit/s-r50x1/1\",\n",
        "  \"inception_v3\": \"https://tfhub.dev/google/imagenet/inception_v3/feature-vector/4\",\n",
        "  \"inception_resnet_v2\": \"https://tfhub.dev/google/imagenet/inception_resnet_v2/feature-vector/4\",\n",
        "  \"resnet_v1_50\": \"https://tfhub.dev/google/imagenet/resnet_v1_50/feature-vector/4\",\n",
        "  \"resnet_v1_101\": \"https://tfhub.dev/google/imagenet/resnet_v1_101/feature-vector/4\",\n",
        "  \"resnet_v1_152\": \"https://tfhub.dev/google/imagenet/resnet_v1_152/feature-vector/4\",\n",
        "  \"resnet_v2_50\": \"https://tfhub.dev/google/imagenet/resnet_v2_50/feature-vector/4\",\n",
        "  \"resnet_v2_101\": \"https://tfhub.dev/google/imagenet/resnet_v2_101/feature-vector/4\",\n",
        "  \"resnet_v2_152\": \"https://tfhub.dev/google/imagenet/resnet_v2_152/feature-vector/4\",\n",
        "  \"nasnet_large\": \"https://tfhub.dev/google/imagenet/nasnet_large/feature_vector/4\",\n",
        "  \"nasnet_mobile\": \"https://tfhub.dev/google/imagenet/nasnet_mobile/feature_vector/4\",\n",
        "  \"pnasnet_large\": \"https://tfhub.dev/google/imagenet/pnasnet_large/feature_vector/4\",\n",
        "  \"mobilenet_v2_100_224\": \"https://tfhub.dev/google/imagenet/mobilenet_v2_100_224/feature_vector/4\",\n",
        "  \"mobilenet_v2_130_224\": \"https://tfhub.dev/google/imagenet/mobilenet_v2_130_224/feature_vector/4\",\n",
        "  \"mobilenet_v2_140_224\": \"https://tfhub.dev/google/imagenet/mobilenet_v2_140_224/feature_vector/4\",\n",
        "  \"mobilenet_v3_small_100_224\": \"https://tfhub.dev/google/imagenet/mobilenet_v3_small_100_224/feature_vector/5\",\n",
        "  \"mobilenet_v3_small_075_224\": \"https://tfhub.dev/google/imagenet/mobilenet_v3_small_075_224/feature_vector/5\",\n",
        "  \"mobilenet_v3_large_100_224\": \"https://tfhub.dev/google/imagenet/mobilenet_v3_large_100_224/feature_vector/5\",\n",
        "  \"mobilenet_v3_large_075_224\": \"https://tfhub.dev/google/imagenet/mobilenet_v3_large_075_224/feature_vector/5\",\n",
        "}"
      ],
      "metadata": {
        "id": "Bm79OGdHAgTQ"
      },
      "execution_count": null,
      "outputs": []
    },
    {
      "cell_type": "code",
      "source": [
        "pixels_modelo = {\n",
        "  \"efficientnetv2-s\": 384,\n",
        "  \"efficientnetv2-m\": 480,\n",
        "  \"efficientnetv2-l\": 480,\n",
        "  \"efficientnetv2-b0\": 224,\n",
        "  \"efficientnetv2-b1\": 240,\n",
        "  \"efficientnetv2-b2\": 260,\n",
        "  \"efficientnetv2-b3\": 300,\n",
        "  \"efficientnetv2-s-21k\": 384,\n",
        "  \"efficientnetv2-m-21k\": 480,\n",
        "  \"efficientnetv2-l-21k\": 480,\n",
        "  \"efficientnetv2-xl-21k\": 512,\n",
        "  \"efficientnetv2-b0-21k\": 224,\n",
        "  \"efficientnetv2-b1-21k\": 240,\n",
        "  \"efficientnetv2-b2-21k\": 260,\n",
        "  \"efficientnetv2-b3-21k\": 300,\n",
        "  \"efficientnetv2-s-21k-ft1k\": 384,\n",
        "  \"efficientnetv2-m-21k-ft1k\": 480,\n",
        "  \"efficientnetv2-l-21k-ft1k\": 480,\n",
        "  \"efficientnetv2-xl-21k-ft1k\": 512,\n",
        "  \"efficientnetv2-b0-21k-ft1k\": 224,\n",
        "  \"efficientnetv2-b1-21k-ft1k\": 240,\n",
        "  \"efficientnetv2-b2-21k-ft1k\": 260,\n",
        "  \"efficientnetv2-b3-21k-ft1k\": 300,\n",
        "  \"efficientnet_b0\": 224,\n",
        "  \"efficientnet_b1\": 240,\n",
        "  \"efficientnet_b2\": 260,\n",
        "  \"efficientnet_b3\": 300,\n",
        "  \"efficientnet_b4\": 380,\n",
        "  \"efficientnet_b5\": 456,\n",
        "  \"efficientnet_b6\": 528,\n",
        "  \"efficientnet_b7\": 600,\n",
        "  \"inception_v3\": 299,\n",
        "  \"inception_resnet_v2\": 299,\n",
        "  \"nasnet_large\": 331,\n",
        "  \"pnasnet_large\": 331,\n",
        "}"
      ],
      "metadata": {
        "id": "Ya5Pz7k_Az2F"
      },
      "execution_count": null,
      "outputs": []
    },
    {
      "cell_type": "code",
      "source": [
        "caminho_modelo = links_modelos.get(nome_modelo)\n",
        "caminho_modelo"
      ],
      "metadata": {
        "colab": {
          "base_uri": "https://localhost:8080/",
          "height": 37
        },
        "id": "nd0wIkBGBFaM",
        "outputId": "4c931d5c-be12-47a6-a2b6-0c8c526f379f"
      },
      "execution_count": null,
      "outputs": [
        {
          "output_type": "execute_result",
          "data": {
            "text/plain": [
              "'https://tfhub.dev/google/imagenet/efficientnet_v2_imagenet21k_xl/feature_vector/2'"
            ],
            "application/vnd.google.colaboratory.intrinsic+json": {
              "type": "string"
            }
          },
          "metadata": {},
          "execution_count": 5
        }
      ]
    },
    {
      "cell_type": "code",
      "source": [
        "pixels = pixels_modelo.get(nome_modelo)\n",
        "pixels"
      ],
      "metadata": {
        "colab": {
          "base_uri": "https://localhost:8080/"
        },
        "id": "GFYEemrdBOjL",
        "outputId": "9ca4645f-5c51-4173-bba9-6c9954ddbf2b"
      },
      "execution_count": null,
      "outputs": [
        {
          "output_type": "execute_result",
          "data": {
            "text/plain": [
              "512"
            ]
          },
          "metadata": {},
          "execution_count": 6
        }
      ]
    },
    {
      "cell_type": "code",
      "source": [
        "tamanho_imagem = (pixels, pixels)\n",
        "tamanho_imagem"
      ],
      "metadata": {
        "colab": {
          "base_uri": "https://localhost:8080/"
        },
        "id": "9Ha32lIRBdix",
        "outputId": "eee5b8ba-4840-4c72-e96e-e1c250c4750a"
      },
      "execution_count": null,
      "outputs": [
        {
          "output_type": "execute_result",
          "data": {
            "text/plain": [
              "(512, 512)"
            ]
          },
          "metadata": {},
          "execution_count": 7
        }
      ]
    },
    {
      "cell_type": "code",
      "source": [
        "print('Modelo utilizado: ', nome_modelo)\n",
        "print('Caminho do modelo:', caminho_modelo)\n",
        "print('Tamanho das imagens: ', tamanho_imagem)"
      ],
      "metadata": {
        "colab": {
          "base_uri": "https://localhost:8080/"
        },
        "id": "dvzlsYBpBkC2",
        "outputId": "4d0ae319-4829-4441-b18a-0e06f869484b"
      },
      "execution_count": null,
      "outputs": [
        {
          "output_type": "stream",
          "name": "stdout",
          "text": [
            "Modelo utilizado:  efficientnetv2-xl-21k\n",
            "Caminho do modelo: https://tfhub.dev/google/imagenet/efficientnet_v2_imagenet21k_xl/feature_vector/2\n",
            "Tamanho das imagens:  (512, 512)\n"
          ]
        }
      ]
    },
    {
      "cell_type": "markdown",
      "source": [
        "# Base de dados\n",
        "\n",
        "- Kaggle: https://www.kaggle.com/datasets/alxmamaev/flowers-recognition\n",
        "- TensorFlow: https://www.tensorflow.org/datasets/catalog/tf_flowers"
      ],
      "metadata": {
        "id": "5W9OhzS40gOV"
      }
    },
    {
      "cell_type": "code",
      "source": [
        "diretorio_dados = tf.keras.utils.get_file('flower_photos',\n",
        "                                          'https://storage.googleapis.com/download.tensorflow.org/example_images/flower_photos.tgz',\n",
        "                                          untar = True)"
      ],
      "metadata": {
        "colab": {
          "base_uri": "https://localhost:8080/"
        },
        "id": "lT1vRcLcEfRS",
        "outputId": "96e657d4-7df0-4992-ad9e-de5e126ad8a5"
      },
      "execution_count": null,
      "outputs": [
        {
          "output_type": "stream",
          "name": "stdout",
          "text": [
            "Downloading data from https://storage.googleapis.com/download.tensorflow.org/example_images/flower_photos.tgz\n",
            "228818944/228813984 [==============================] - 1s 0us/step\n",
            "228827136/228813984 [==============================] - 1s 0us/step\n"
          ]
        }
      ]
    },
    {
      "cell_type": "code",
      "source": [
        "diretorio_dados"
      ],
      "metadata": {
        "colab": {
          "base_uri": "https://localhost:8080/",
          "height": 37
        },
        "id": "8fXvhw9sEzkH",
        "outputId": "7b771b70-678c-4a6d-9fe4-30bb25cbd276"
      },
      "execution_count": null,
      "outputs": [
        {
          "output_type": "execute_result",
          "data": {
            "text/plain": [
              "'/root/.keras/datasets/flower_photos'"
            ],
            "application/vnd.google.colaboratory.intrinsic+json": {
              "type": "string"
            }
          },
          "metadata": {},
          "execution_count": 10
        }
      ]
    },
    {
      "cell_type": "markdown",
      "source": [
        "## Base de treinamento"
      ],
      "metadata": {
        "id": "Cr5oAcNZ7Ys-"
      }
    },
    {
      "cell_type": "code",
      "source": [
        "base_treinamento = tf.keras.preprocessing.image_dataset_from_directory(diretorio_dados,\n",
        "                                                                       validation_split = .20,\n",
        "                                                                       subset = 'training',\n",
        "                                                                       label_mode = 'categorical',\n",
        "                                                                       seed = 123,\n",
        "                                                                       image_size = tamanho_imagem,\n",
        "                                                                       batch_size = 1)"
      ],
      "metadata": {
        "colab": {
          "base_uri": "https://localhost:8080/"
        },
        "id": "EkwnKgd3GYVQ",
        "outputId": "f57f6d3b-46c3-43d7-ed2a-d537b4bd49fe"
      },
      "execution_count": null,
      "outputs": [
        {
          "output_type": "stream",
          "name": "stdout",
          "text": [
            "Found 3670 files belonging to 5 classes.\n",
            "Using 2936 files for training.\n"
          ]
        }
      ]
    },
    {
      "cell_type": "code",
      "source": [
        "2936 / 3670"
      ],
      "metadata": {
        "colab": {
          "base_uri": "https://localhost:8080/"
        },
        "id": "G7K13EB4HVby",
        "outputId": "dffb511c-9072-4464-a95c-f7999e531d35"
      },
      "execution_count": null,
      "outputs": [
        {
          "output_type": "execute_result",
          "data": {
            "text/plain": [
              "0.8"
            ]
          },
          "metadata": {},
          "execution_count": 12
        }
      ]
    },
    {
      "cell_type": "code",
      "source": [
        "base_treinamento.class_names"
      ],
      "metadata": {
        "colab": {
          "base_uri": "https://localhost:8080/"
        },
        "id": "L0t5VwllHdpC",
        "outputId": "e8eda99b-f20b-4e65-810d-a36e0a7e69ad"
      },
      "execution_count": null,
      "outputs": [
        {
          "output_type": "execute_result",
          "data": {
            "text/plain": [
              "['daisy', 'dandelion', 'roses', 'sunflowers', 'tulips']"
            ]
          },
          "metadata": {},
          "execution_count": 13
        }
      ]
    },
    {
      "cell_type": "code",
      "source": [
        "classes = base_treinamento.class_names\n",
        "classes"
      ],
      "metadata": {
        "colab": {
          "base_uri": "https://localhost:8080/"
        },
        "id": "rQO33aFEHkhs",
        "outputId": "63d0bd01-873e-4fa7-8f8c-e4d51d82d2bb"
      },
      "execution_count": null,
      "outputs": [
        {
          "output_type": "execute_result",
          "data": {
            "text/plain": [
              "['daisy', 'dandelion', 'roses', 'sunflowers', 'tulips']"
            ]
          },
          "metadata": {},
          "execution_count": 14
        }
      ]
    },
    {
      "cell_type": "code",
      "source": [
        "tamanho_treinamento = base_treinamento.cardinality().numpy()\n",
        "tamanho_treinamento"
      ],
      "metadata": {
        "colab": {
          "base_uri": "https://localhost:8080/"
        },
        "id": "EogH4BsWHtvx",
        "outputId": "830947ee-971a-48c3-bf4d-1c669064332b"
      },
      "execution_count": null,
      "outputs": [
        {
          "output_type": "execute_result",
          "data": {
            "text/plain": [
              "2936"
            ]
          },
          "metadata": {},
          "execution_count": 15
        }
      ]
    },
    {
      "cell_type": "code",
      "source": [
        "BATCH_SIZE = 16"
      ],
      "metadata": {
        "id": "mmg-vM8XIPxr"
      },
      "execution_count": null,
      "outputs": []
    },
    {
      "cell_type": "code",
      "source": [
        "base_treinamento = base_treinamento.unbatch().batch(BATCH_SIZE)"
      ],
      "metadata": {
        "id": "XbhW3ccKIZhK"
      },
      "execution_count": null,
      "outputs": []
    },
    {
      "cell_type": "code",
      "source": [
        "base_treinamento"
      ],
      "metadata": {
        "colab": {
          "base_uri": "https://localhost:8080/"
        },
        "id": "akCC9wO3Ik4A",
        "outputId": "d9865258-bc65-45b1-a87e-a303ab89c068"
      },
      "execution_count": null,
      "outputs": [
        {
          "output_type": "execute_result",
          "data": {
            "text/plain": [
              "<BatchDataset element_spec=(TensorSpec(shape=(None, 512, 512, 3), dtype=tf.float32, name=None), TensorSpec(shape=(None, 5), dtype=tf.float32, name=None))>"
            ]
          },
          "metadata": {},
          "execution_count": 18
        }
      ]
    },
    {
      "cell_type": "code",
      "source": [
        "2936 / 16"
      ],
      "metadata": {
        "colab": {
          "base_uri": "https://localhost:8080/"
        },
        "id": "gZNfjxmGIxnF",
        "outputId": "83d08b0e-1fc0-4315-b98b-1a2828f60d03"
      },
      "execution_count": null,
      "outputs": [
        {
          "output_type": "execute_result",
          "data": {
            "text/plain": [
              "183.5"
            ]
          },
          "metadata": {},
          "execution_count": 19
        }
      ]
    },
    {
      "cell_type": "code",
      "source": [
        "# https://www.tensorflow.org/api_docs/python/tf/repeat\n",
        "# https://stackoverflow.com/questions/53514495/what-does-batch-repeat-and-shuffle-do-with-tensorflow-dataset\n",
        "base_treinamento = base_treinamento.repeat()"
      ],
      "metadata": {
        "id": "M8IiH0oFJQap"
      },
      "execution_count": null,
      "outputs": []
    },
    {
      "cell_type": "code",
      "source": [
        "# Documentação augmentation: https://www.tensorflow.org/tutorials/images/data_augmentation\n",
        "camada_normalizacao = tf.keras.layers.Rescaling(1. / 255)\n",
        "pre_processamento = tf.keras.Sequential([camada_normalizacao])\n",
        "pre_processamento.add(tf.keras.layers.RandomRotation(40))\n",
        "pre_processamento.add(tf.keras.layers.RandomTranslation(0, 0.2))\n",
        "pre_processamento.add(tf.keras.layers.RandomTranslation(0.2, 0))\n",
        "pre_processamento.add(tf.keras.layers.RandomZoom(0.2, 0.2))\n",
        "pre_processamento.add(tf.keras.layers.RandomFlip(mode = 'horizontal'))"
      ],
      "metadata": {
        "id": "xLofFH93UWdC"
      },
      "execution_count": null,
      "outputs": []
    },
    {
      "cell_type": "code",
      "source": [
        "base_treinamento = base_treinamento.map(lambda imagens, labels: (pre_processamento(imagens), labels))"
      ],
      "metadata": {
        "id": "qxWbJplmWKZ-"
      },
      "execution_count": null,
      "outputs": []
    },
    {
      "cell_type": "code",
      "source": [
        "base_treinamento"
      ],
      "metadata": {
        "colab": {
          "base_uri": "https://localhost:8080/"
        },
        "id": "FdP27zb3WZiW",
        "outputId": "8d095819-d701-4399-b037-456fbcb7aafd"
      },
      "execution_count": null,
      "outputs": [
        {
          "output_type": "execute_result",
          "data": {
            "text/plain": [
              "<MapDataset element_spec=(TensorSpec(shape=(None, 512, 512, 3), dtype=tf.float32, name=None), TensorSpec(shape=(None, 5), dtype=tf.float32, name=None))>"
            ]
          },
          "metadata": {},
          "execution_count": 23
        }
      ]
    },
    {
      "cell_type": "markdown",
      "source": [
        "## Base de teste"
      ],
      "metadata": {
        "id": "CcZwye-H7byh"
      }
    },
    {
      "cell_type": "code",
      "source": [
        "base_teste = tf.keras.preprocessing.image_dataset_from_directory(diretorio_dados,\n",
        "                                                                 validation_split = .20,\n",
        "                                                                 subset = 'validation',\n",
        "                                                                 label_mode = 'categorical',\n",
        "                                                                 seed = 123,\n",
        "                                                                 image_size = tamanho_imagem,\n",
        "                                                                 batch_size = 1)"
      ],
      "metadata": {
        "colab": {
          "base_uri": "https://localhost:8080/"
        },
        "id": "TPClVjhiWgPn",
        "outputId": "442fa277-b50c-46ae-a9df-4c5a3ca2a214"
      },
      "execution_count": null,
      "outputs": [
        {
          "output_type": "stream",
          "name": "stdout",
          "text": [
            "Found 3670 files belonging to 5 classes.\n",
            "Using 734 files for validation.\n"
          ]
        }
      ]
    },
    {
      "cell_type": "code",
      "source": [
        "tamanho_teste = base_teste.cardinality().numpy()\n",
        "tamanho_teste"
      ],
      "metadata": {
        "colab": {
          "base_uri": "https://localhost:8080/"
        },
        "id": "F01PyTLXW2Bt",
        "outputId": "6804edc2-b740-4922-a33b-9f63ee849454"
      },
      "execution_count": null,
      "outputs": [
        {
          "output_type": "execute_result",
          "data": {
            "text/plain": [
              "734"
            ]
          },
          "metadata": {},
          "execution_count": 25
        }
      ]
    },
    {
      "cell_type": "code",
      "source": [
        "base_teste = base_teste.unbatch().batch(BATCH_SIZE)\n",
        "base_teste = base_teste.map(lambda imagens, labels: (camada_normalizacao(imagens), labels))"
      ],
      "metadata": {
        "id": "ERGabKPXW-Ds"
      },
      "execution_count": null,
      "outputs": []
    },
    {
      "cell_type": "markdown",
      "source": [
        "# Construção e treinamento da rede neural"
      ],
      "metadata": {
        "id": "_awPIQjs_n3x"
      }
    },
    {
      "cell_type": "code",
      "source": [
        "tamanho_imagem + (3,)"
      ],
      "metadata": {
        "colab": {
          "base_uri": "https://localhost:8080/"
        },
        "id": "pht_QlWEYU4p",
        "outputId": "db0512fc-fb66-4364-9690-8d230e8f91d0"
      },
      "execution_count": null,
      "outputs": [
        {
          "output_type": "execute_result",
          "data": {
            "text/plain": [
              "(512, 512, 3)"
            ]
          },
          "metadata": {},
          "execution_count": 27
        }
      ]
    },
    {
      "cell_type": "code",
      "source": [
        "caminho_modelo"
      ],
      "metadata": {
        "colab": {
          "base_uri": "https://localhost:8080/",
          "height": 37
        },
        "id": "NuhSngaXYlXU",
        "outputId": "97ad3f66-6c9c-4c99-9c85-a0b3b25eee33"
      },
      "execution_count": null,
      "outputs": [
        {
          "output_type": "execute_result",
          "data": {
            "text/plain": [
              "'https://tfhub.dev/google/imagenet/efficientnet_v2_imagenet21k_xl/feature_vector/2'"
            ],
            "application/vnd.google.colaboratory.intrinsic+json": {
              "type": "string"
            }
          },
          "metadata": {},
          "execution_count": 28
        }
      ]
    },
    {
      "cell_type": "code",
      "source": [
        "len(classes)"
      ],
      "metadata": {
        "colab": {
          "base_uri": "https://localhost:8080/"
        },
        "id": "I26JC37-ZWgj",
        "outputId": "83ca2d83-89bf-4407-e2db-92ffe62310ba"
      },
      "execution_count": null,
      "outputs": [
        {
          "output_type": "execute_result",
          "data": {
            "text/plain": [
              "5"
            ]
          },
          "metadata": {},
          "execution_count": 30
        }
      ]
    },
    {
      "cell_type": "code",
      "source": [
        "# Dropout: https://jmlr.org/papers/volume15/srivastava14a/srivastava14a.pdf\n",
        "modelo = tf.keras.Sequential([\n",
        "                              tf.keras.layers.InputLayer(input_shape = tamanho_imagem + (3,)),\n",
        "                              hub.KerasLayer(caminho_modelo, trainable=False),\n",
        "                              tf.keras.layers.Dropout(rate = 0.2),\n",
        "                              tf.keras.layers.Dense(len(classes))\n",
        "])"
      ],
      "metadata": {
        "id": "k-p2dzpOYFpl"
      },
      "execution_count": null,
      "outputs": []
    },
    {
      "cell_type": "code",
      "source": [
        "(None,) + tamanho_imagem + (3,)"
      ],
      "metadata": {
        "colab": {
          "base_uri": "https://localhost:8080/"
        },
        "id": "nWaYNjfhZy4W",
        "outputId": "e1221706-244c-49cb-df7d-b87c0996a017"
      },
      "execution_count": null,
      "outputs": [
        {
          "output_type": "execute_result",
          "data": {
            "text/plain": [
              "(None, 512, 512, 3)"
            ]
          },
          "metadata": {},
          "execution_count": 32
        }
      ]
    },
    {
      "cell_type": "code",
      "source": [
        "modelo.build((None,) + tamanho_imagem + (3,))\n",
        "modelo.summary()"
      ],
      "metadata": {
        "colab": {
          "base_uri": "https://localhost:8080/"
        },
        "id": "S_evVwxgZrx-",
        "outputId": "e8d54c79-8c3b-4225-8440-bbf7e4e2a25c"
      },
      "execution_count": null,
      "outputs": [
        {
          "output_type": "stream",
          "name": "stdout",
          "text": [
            "Model: \"sequential_1\"\n",
            "_________________________________________________________________\n",
            " Layer (type)                Output Shape              Param #   \n",
            "=================================================================\n",
            " keras_layer (KerasLayer)    (None, 1280)              207615832 \n",
            "                                                                 \n",
            " dropout (Dropout)           (None, 1280)              0         \n",
            "                                                                 \n",
            " dense (Dense)               (None, 5)                 6405      \n",
            "                                                                 \n",
            "=================================================================\n",
            "Total params: 207,622,237\n",
            "Trainable params: 6,405\n",
            "Non-trainable params: 207,615,832\n",
            "_________________________________________________________________\n"
          ]
        }
      ]
    },
    {
      "cell_type": "code",
      "source": [
        "modelo.compile(optimizer='adam', loss=tf.keras.losses.CategoricalCrossentropy(from_logits = True), metrics = ['accuracy'])"
      ],
      "metadata": {
        "id": "GDtmEKF9aMwj"
      },
      "execution_count": null,
      "outputs": []
    },
    {
      "cell_type": "code",
      "source": [
        "steps_per_epoch = tamanho_treinamento // BATCH_SIZE\n",
        "validation_steps = tamanho_teste // BATCH_SIZE\n",
        "print(steps_per_epoch, validation_steps)"
      ],
      "metadata": {
        "colab": {
          "base_uri": "https://localhost:8080/"
        },
        "id": "8Gabr_ykamOP",
        "outputId": "02851553-42e1-4fee-affc-5bf1981c58de"
      },
      "execution_count": null,
      "outputs": [
        {
          "output_type": "stream",
          "name": "stdout",
          "text": [
            "183 45\n"
          ]
        }
      ]
    },
    {
      "cell_type": "code",
      "source": [
        "hist = modelo.fit(base_treinamento, epochs = 5, steps_per_epoch=steps_per_epoch,\n",
        "                  validation_data = base_teste, validation_steps=validation_steps).history"
      ],
      "metadata": {
        "colab": {
          "base_uri": "https://localhost:8080/"
        },
        "id": "2FRBmlxbbCz_",
        "outputId": "55838e7c-7c5a-41b8-cae6-08d4610f449a"
      },
      "execution_count": null,
      "outputs": [
        {
          "output_type": "stream",
          "name": "stdout",
          "text": [
            "Epoch 1/5\n",
            "183/183 [==============================] - 634s 3s/step - loss: 0.4998 - accuracy: 0.8309 - val_loss: 0.1269 - val_accuracy: 0.9625\n",
            "Epoch 2/5\n",
            "183/183 [==============================] - 591s 3s/step - loss: 0.1921 - accuracy: 0.9346 - val_loss: 0.1169 - val_accuracy: 0.9653\n",
            "Epoch 3/5\n",
            "183/183 [==============================] - 589s 3s/step - loss: 0.1500 - accuracy: 0.9459 - val_loss: 0.1041 - val_accuracy: 0.9681\n",
            "Epoch 4/5\n",
            "183/183 [==============================] - 588s 3s/step - loss: 0.1459 - accuracy: 0.9473 - val_loss: 0.1068 - val_accuracy: 0.9722\n",
            "Epoch 5/5\n",
            "183/183 [==============================] - 594s 3s/step - loss: 0.1147 - accuracy: 0.9606 - val_loss: 0.1049 - val_accuracy: 0.9694\n"
          ]
        }
      ]
    },
    {
      "cell_type": "code",
      "source": [
        "hist"
      ],
      "metadata": {
        "colab": {
          "base_uri": "https://localhost:8080/"
        },
        "id": "7FKMGj5vnCP7",
        "outputId": "3495e297-2471-4b6e-e96d-b847dc7c6390"
      },
      "execution_count": null,
      "outputs": [
        {
          "output_type": "execute_result",
          "data": {
            "text/plain": [
              "{'accuracy': [0.8309426307678223,\n",
              "  0.9345890283584595,\n",
              "  0.9458904266357422,\n",
              "  0.9472602605819702,\n",
              "  0.960616409778595],\n",
              " 'loss': [0.4997989237308502,\n",
              "  0.19211579859256744,\n",
              "  0.1500129997730255,\n",
              "  0.1458936631679535,\n",
              "  0.11470239609479904],\n",
              " 'val_accuracy': [0.9624999761581421,\n",
              "  0.9652777910232544,\n",
              "  0.9680555462837219,\n",
              "  0.9722222089767456,\n",
              "  0.9694444537162781],\n",
              " 'val_loss': [0.12688226997852325,\n",
              "  0.1168556958436966,\n",
              "  0.10411714017391205,\n",
              "  0.10679801553487778,\n",
              "  0.10494551062583923]}"
            ]
          },
          "metadata": {},
          "execution_count": 38
        }
      ]
    },
    {
      "cell_type": "code",
      "source": [
        "plt.figure()\n",
        "plt.ylabel('Loss (treinamento e validação)')\n",
        "plt.xlabel('Steps')\n",
        "plt.plot(hist['loss'], label = 'treinamento')\n",
        "plt.plot(hist['val_loss'], label = 'teste')\n",
        "plt.legend();"
      ],
      "metadata": {
        "colab": {
          "base_uri": "https://localhost:8080/",
          "height": 280
        },
        "id": "8Mv7xgHKnF6o",
        "outputId": "9f1d0e7d-d4be-4e23-fe15-baa122c76999"
      },
      "execution_count": null,
      "outputs": [
        {
          "output_type": "display_data",
          "data": {
            "text/plain": [
              "<Figure size 432x288 with 1 Axes>"
            ],
            "image/png": "[encoded data removed]"
          },
          "metadata": {
            "needs_background": "light"
          }
        }
      ]
    },
    {
      "cell_type": "code",
      "source": [
        "plt.figure()\n",
        "plt.ylabel('Accuracy (treinamento e validação)')\n",
        "plt.xlabel('Steps')\n",
        "plt.plot(hist['accuracy'], label = 'treinamento')\n",
        "plt.plot(hist['val_accuracy'], label = 'teste')\n",
        "plt.legend();"
      ],
      "metadata": {
        "colab": {
          "base_uri": "https://localhost:8080/",
          "height": 280
        },
        "id": "WD17KtNKnuG3",
        "outputId": "dd50b1b8-06eb-419a-c269-25f7b239a2f6"
      },
      "execution_count": null,
      "outputs": [
        {
          "output_type": "display_data",
          "data": {
            "text/plain": [
              "<Figure size 432x288 with 1 Axes>"
            ],
            "image/png": "[encoded data removed]"
          },
          "metadata": {
            "needs_background": "light"
          }
        }
      ]
    },
    {
      "cell_type": "markdown",
      "source": [
        "# Testes com imagens"
      ],
      "metadata": {
        "id": "ItEa46bhKgJe"
      }
    },
    {
      "cell_type": "code",
      "source": [
        "X, y = next(iter(base_teste))"
      ],
      "metadata": {
        "id": "zE8Nabb4oaY-"
      },
      "execution_count": null,
      "outputs": []
    },
    {
      "cell_type": "code",
      "source": [
        "X"
      ],
      "metadata": {
        "id": "R9dj3i0eojzY"
      },
      "execution_count": null,
      "outputs": []
    },
    {
      "cell_type": "code",
      "source": [
        "X.shape"
      ],
      "metadata": {
        "colab": {
          "base_uri": "https://localhost:8080/"
        },
        "id": "JuabHKDOovj5",
        "outputId": "d6f510da-c91f-417e-9957-bf02e46c34aa"
      },
      "execution_count": null,
      "outputs": [
        {
          "output_type": "execute_result",
          "data": {
            "text/plain": [
              "TensorShape([16, 512, 512, 3])"
            ]
          },
          "metadata": {},
          "execution_count": 50
        }
      ]
    },
    {
      "cell_type": "code",
      "source": [
        "y"
      ],
      "metadata": {
        "colab": {
          "base_uri": "https://localhost:8080/"
        },
        "id": "kZZMfYv1o1fl",
        "outputId": "8f8cc7d6-fde3-4317-e149-c3a482f1cdc7"
      },
      "execution_count": null,
      "outputs": [
        {
          "output_type": "execute_result",
          "data": {
            "text/plain": [
              "<tf.Tensor: shape=(16, 5), dtype=float32, numpy=\n",
              "array([[0., 0., 0., 1., 0.],\n",
              "       [0., 0., 1., 0., 0.],\n",
              "       [0., 1., 0., 0., 0.],\n",
              "       [1., 0., 0., 0., 0.],\n",
              "       [0., 0., 0., 0., 1.],\n",
              "       [0., 1., 0., 0., 0.],\n",
              "       [0., 0., 0., 0., 1.],\n",
              "       [0., 0., 1., 0., 0.],\n",
              "       [0., 0., 1., 0., 0.],\n",
              "       [0., 0., 1., 0., 0.],\n",
              "       [0., 0., 0., 0., 1.],\n",
              "       [0., 0., 1., 0., 0.],\n",
              "       [0., 0., 0., 0., 1.],\n",
              "       [0., 1., 0., 0., 0.],\n",
              "       [0., 0., 0., 1., 0.],\n",
              "       [1., 0., 0., 0., 0.]], dtype=float32)>"
            ]
          },
          "metadata": {},
          "execution_count": 51
        }
      ]
    },
    {
      "cell_type": "code",
      "source": [
        "y.shape"
      ],
      "metadata": {
        "colab": {
          "base_uri": "https://localhost:8080/"
        },
        "id": "C2zEKhuNpt3c",
        "outputId": "cf97eeba-b244-4365-a3e7-e6f344a1b5bd"
      },
      "execution_count": null,
      "outputs": [
        {
          "output_type": "execute_result",
          "data": {
            "text/plain": [
              "TensorShape([16, 5])"
            ]
          },
          "metadata": {},
          "execution_count": 56
        }
      ]
    },
    {
      "cell_type": "code",
      "source": [
        "imagem = X[0, :, :, :]\n",
        "imagem"
      ],
      "metadata": {
        "colab": {
          "base_uri": "https://localhost:8080/"
        },
        "id": "OTKpJd5Wp4yZ",
        "outputId": "9b19a714-4f60-42cb-ba0a-6f86322625f1"
      },
      "execution_count": null,
      "outputs": [
        {
          "output_type": "execute_result",
          "data": {
            "text/plain": [
              "<tf.Tensor: shape=(512, 512, 3), dtype=float32, numpy=\n",
              "array([[[0.04313726, 0.0627451 , 0.04705883],\n",
              "        [0.04142157, 0.05416667, 0.04877451],\n",
              "        [0.04093137, 0.04460784, 0.05245098],\n",
              "        ...,\n",
              "        [0.01151961, 0.01151961, 0.04387255],\n",
              "        [0.01397059, 0.01838235, 0.0254902 ],\n",
              "        [0.01568628, 0.02352941, 0.01176471]],\n",
              "\n",
              "       [[0.05508579, 0.07389706, 0.06378677],\n",
              "        [0.04709712, 0.06009115, 0.0536535 ],\n",
              "        [0.03819317, 0.04346278, 0.04179688],\n",
              "        ...,\n",
              "        [0.01306296, 0.0146561 , 0.03496094],\n",
              "        [0.01377145, 0.01798407, 0.02210478],\n",
              "        [0.01409314, 0.02034314, 0.01256128]],\n",
              "\n",
              "       [[0.08265932, 0.09963236, 0.10238972],\n",
              "        [0.06019455, 0.07376303, 0.06491268],\n",
              "        [0.03187424, 0.04082032, 0.01721048],\n",
              "        ...,\n",
              "        [0.01662454, 0.02189415, 0.01439568],\n",
              "        [0.01331189, 0.01706495, 0.01429228],\n",
              "        [0.01041667, 0.0129902 , 0.01439951]],\n",
              "\n",
              "       ...,\n",
              "\n",
              "       [[0.02218137, 0.03002451, 0.02702206],\n",
              "        [0.02400429, 0.03179381, 0.02442172],\n",
              "        [0.02617188, 0.03406097, 0.02048483],\n",
              "        ...,\n",
              "        [0.0061466 , 0.01006817, 0.01791131],\n",
              "        [0.00731465, 0.01123621, 0.01907935],\n",
              "        [0.00790441, 0.01182598, 0.01966912]],\n",
              "\n",
              "       [[0.02585785, 0.03370098, 0.065625  ],\n",
              "        [0.01803003, 0.03064492, 0.03970205],\n",
              "        [0.00893842, 0.02739737, 0.00773208],\n",
              "        ...,\n",
              "        [0.00442325, 0.00834482, 0.01618796],\n",
              "        [0.00340839, 0.00732996, 0.0151731 ],\n",
              "        [0.00238971, 0.00631128, 0.01415441]],\n",
              "\n",
              "       [[0.02745098, 0.03529412, 0.08235294],\n",
              "        [0.01544118, 0.03014706, 0.04632353],\n",
              "        [0.00147059, 0.02450981, 0.00220588],\n",
              "        ...,\n",
              "        [0.00367647, 0.00759804, 0.01544118],\n",
              "        [0.00171569, 0.00563726, 0.01348039],\n",
              "        [0.        , 0.00392157, 0.01176471]]], dtype=float32)>"
            ]
          },
          "metadata": {},
          "execution_count": 72
        }
      ]
    },
    {
      "cell_type": "code",
      "source": [
        "y_true = np.argmax(y[0])\n",
        "y_true"
      ],
      "metadata": {
        "colab": {
          "base_uri": "https://localhost:8080/"
        },
        "id": "fFtsaTEepQm1",
        "outputId": "358783be-9a2b-47d1-94b0-8a55bd61f86a"
      },
      "execution_count": null,
      "outputs": [
        {
          "output_type": "execute_result",
          "data": {
            "text/plain": [
              "2"
            ]
          },
          "metadata": {},
          "execution_count": 73
        }
      ]
    },
    {
      "cell_type": "code",
      "source": [
        "classes[y_true]"
      ],
      "metadata": {
        "colab": {
          "base_uri": "https://localhost:8080/",
          "height": 37
        },
        "id": "GyreYmJBpbHl",
        "outputId": "70a57f93-2067-4d98-bd43-1bf06ee23360"
      },
      "execution_count": null,
      "outputs": [
        {
          "output_type": "execute_result",
          "data": {
            "text/plain": [
              "'roses'"
            ],
            "application/vnd.google.colaboratory.intrinsic+json": {
              "type": "string"
            }
          },
          "metadata": {},
          "execution_count": 74
        }
      ]
    },
    {
      "cell_type": "code",
      "source": [
        "plt.imshow(imagem)\n",
        "plt.axis('off');"
      ],
      "metadata": {
        "colab": {
          "base_uri": "https://localhost:8080/",
          "height": 248
        },
        "id": "B78VJ9MPqKrO",
        "outputId": "868b094d-aae4-419a-d0d4-612e18d37062"
      },
      "execution_count": null,
      "outputs": [
        {
          "output_type": "display_data",
          "data": {
            "text/plain": [
              "<Figure size 432x288 with 1 Axes>"
            ],
            "image/png": "[encoded data removed]"
          },
          "metadata": {
            "needs_background": "light"
          }
        }
      ]
    },
    {
      "cell_type": "code",
      "source": [
        "imagem.shape"
      ],
      "metadata": {
        "colab": {
          "base_uri": "https://localhost:8080/"
        },
        "id": "N8Mvyc-yqRLe",
        "outputId": "7c2b46ad-074e-404d-8ca1-d1c86ef59c11"
      },
      "execution_count": null,
      "outputs": [
        {
          "output_type": "execute_result",
          "data": {
            "text/plain": [
              "TensorShape([512, 512, 3])"
            ]
          },
          "metadata": {},
          "execution_count": 76
        }
      ]
    },
    {
      "cell_type": "code",
      "source": [
        "imagem = np.expand_dims(imagem, axis = 0)\n",
        "imagem.shape"
      ],
      "metadata": {
        "colab": {
          "base_uri": "https://localhost:8080/"
        },
        "id": "B2lPVN8JqVL8",
        "outputId": "459cb164-8e98-40da-ed48-a5c07d26354e"
      },
      "execution_count": null,
      "outputs": [
        {
          "output_type": "execute_result",
          "data": {
            "text/plain": [
              "(1, 512, 512, 3)"
            ]
          },
          "metadata": {},
          "execution_count": 77
        }
      ]
    },
    {
      "cell_type": "code",
      "source": [
        "previsao = modelo.predict(imagem)\n",
        "previsao"
      ],
      "metadata": {
        "colab": {
          "base_uri": "https://localhost:8080/"
        },
        "id": "lAXbRUr6qhM_",
        "outputId": "94e1538d-4318-4638-bbf1-9754aa3244d2"
      },
      "execution_count": null,
      "outputs": [
        {
          "output_type": "execute_result",
          "data": {
            "text/plain": [
              "array([[-5.791305 , -6.0681376, -9.125044 ,  9.323482 , -7.560396 ]],\n",
              "      dtype=float32)"
            ]
          },
          "metadata": {},
          "execution_count": 65
        }
      ]
    },
    {
      "cell_type": "code",
      "source": [
        "previsao = np.argmax(previsao)\n",
        "previsao"
      ],
      "metadata": {
        "colab": {
          "base_uri": "https://localhost:8080/"
        },
        "id": "vW5D8Ok3qs6h",
        "outputId": "68ec7873-d3d4-4418-96f6-3845425ee779"
      },
      "execution_count": null,
      "outputs": [
        {
          "output_type": "execute_result",
          "data": {
            "text/plain": [
              "3"
            ]
          },
          "metadata": {},
          "execution_count": 66
        }
      ]
    },
    {
      "cell_type": "code",
      "source": [
        "print('Classe correta: ', classes[y_true])\n",
        "print('Previsão: ', classes[previsao])"
      ],
      "metadata": {
        "colab": {
          "base_uri": "https://localhost:8080/"
        },
        "id": "PoS-nOxUqzxz",
        "outputId": "274bd52b-1e6f-41eb-fa1f-0b0c7e9d414a"
      },
      "execution_count": null,
      "outputs": [
        {
          "output_type": "stream",
          "name": "stdout",
          "text": [
            "Classe correta:  sunflowers\n",
            "Previsão:  sunflowers\n"
          ]
        }
      ]
    },
    {
      "cell_type": "code",
      "source": [
        "modelo.save('/content/model')"
      ],
      "metadata": {
        "colab": {
          "base_uri": "https://localhost:8080/"
        },
        "id": "-b9WLjvXq8wG",
        "outputId": "87be3b94-d9c2-414a-818c-e9f0f54bd6d8"
      },
      "execution_count": null,
      "outputs": [
        {
          "output_type": "stream",
          "name": "stderr",
          "text": [
            "WARNING:absl:Found untraced functions such as restored_function_body, restored_function_body, restored_function_body, restored_function_body, restored_function_body while saving (showing 5 of 1594). These functions will not be directly callable after loading.\n"
          ]
        },
        {
          "output_type": "stream",
          "name": "stdout",
          "text": [
            "INFO:tensorflow:Assets written to: /content/model/assets\n"
          ]
        },
        {
          "output_type": "stream",
          "name": "stderr",
          "text": [
            "INFO:tensorflow:Assets written to: /content/model/assets\n"
          ]
        }
      ]
    },
    {
      "cell_type": "code",
      "source": [
        "modelo_carregado = tf.keras.models.load_model('/content/model')"
      ],
      "metadata": {
        "id": "8x2FfqDNrURK"
      },
      "execution_count": null,
      "outputs": []
    },
    {
      "cell_type": "code",
      "source": [
        "modelo_carregado.summary()"
      ],
      "metadata": {
        "colab": {
          "base_uri": "https://localhost:8080/"
        },
        "id": "3DH3RHAtrbVR",
        "outputId": "5070ae4e-a274-45bb-ac97-18fc67918327"
      },
      "execution_count": null,
      "outputs": [
        {
          "output_type": "stream",
          "name": "stdout",
          "text": [
            "Model: \"sequential_1\"\n",
            "_________________________________________________________________\n",
            " Layer (type)                Output Shape              Param #   \n",
            "=================================================================\n",
            " keras_layer (KerasLayer)    (None, 1280)              207615832 \n",
            "                                                                 \n",
            " dropout (Dropout)           (None, 1280)              0         \n",
            "                                                                 \n",
            " dense (Dense)               (None, 5)                 6405      \n",
            "                                                                 \n",
            "=================================================================\n",
            "Total params: 207,622,237\n",
            "Trainable params: 6,405\n",
            "Non-trainable params: 207,615,832\n",
            "_________________________________________________________________\n"
          ]
        }
      ]
    },
    {
      "cell_type": "code",
      "source": [
        "previsao = classes[np.argmax(modelo_carregado.predict(imagem))]\n",
        "print('Classe correta: ', classes[y_true])\n",
        "print('Previsão: ', previsao)"
      ],
      "metadata": {
        "colab": {
          "base_uri": "https://localhost:8080/"
        },
        "id": "JfdVfaWMromI",
        "outputId": "6c200724-add4-49ef-8e96-5c7ffa904eb6"
      },
      "execution_count": null,
      "outputs": [
        {
          "output_type": "stream",
          "name": "stdout",
          "text": [
            "Classe correta:  roses\n",
            "Previsão:  roses\n"
          ]
        }
      ]
    }
  ],
  "metadata": {
    "accelerator": "GPU",
    "colab": {
      "provenance": [],
      "include_colab_link": true
    },
    "gpuClass": "standard",
    "kernelspec": {
      "display_name": "Python 3",
      "name": "python3"
    },
    "language_info": {
      "name": "python"
    }
  },
  "nbformat": 4,
  "nbformat_minor": 0
}